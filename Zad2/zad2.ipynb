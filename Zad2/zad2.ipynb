{
 "cells": [
  {
   "cell_type": "code",
   "execution_count": 5,
   "metadata": {
    "collapsed": true,
    "ExecuteTime": {
     "start_time": "2023-10-17T10:33:34.742407Z",
     "end_time": "2023-10-17T10:33:35.973542Z"
    }
   },
   "outputs": [
    {
     "name": "stdout",
     "output_type": "stream",
     "text": [
      "     age  sex  cp  trestbps  chol  fbs  restecg  thalach  exang  oldpeak  \\\n",
      "0     63    1   1       145   233    1        2      150      0      2.3   \n",
      "1     67    1   4       160   286    0        2      108      1      1.5   \n",
      "2     67    1   4       120   229    0        2      129      1      2.6   \n",
      "3     37    1   3       130   250    0        0      187      0      3.5   \n",
      "4     41    0   2       130   204    0        2      172      0      1.4   \n",
      "..   ...  ...  ..       ...   ...  ...      ...      ...    ...      ...   \n",
      "298   45    1   1       110   264    0        0      132      0      1.2   \n",
      "299   68    1   4       144   193    1        0      141      0      3.4   \n",
      "300   57    1   4       130   131    0        0      115      1      1.2   \n",
      "301   57    0   2       130   236    0        2      174      0      0.0   \n",
      "302   38    1   3       138   175    0        0      173      0      0.0   \n",
      "\n",
      "     slope   ca  thal  \n",
      "0        3  0.0   6.0  \n",
      "1        2  3.0   3.0  \n",
      "2        2  2.0   7.0  \n",
      "3        3  0.0   3.0  \n",
      "4        1  0.0   3.0  \n",
      "..     ...  ...   ...  \n",
      "298      2  0.0   7.0  \n",
      "299      2  2.0   7.0  \n",
      "300      2  1.0   7.0  \n",
      "301      2  1.0   3.0  \n",
      "302      1  NaN   3.0  \n",
      "\n",
      "[303 rows x 13 columns]\n"
     ]
    }
   ],
   "source": [
    "\n",
    "\n",
    "from ucimlrepo import fetch_ucirepo\n",
    "import numpy as np\n",
    "# fetch dataset\n",
    "heart_disease = fetch_ucirepo(id=45)\n",
    "\n",
    "# data (as pandas dataframes)\n",
    "X = heart_disease.data.features\n",
    "print(X)\n",
    "y = heart_disease.data.targets\n",
    "\n",
    "\n",
    "\n"
   ]
  },
  {
   "cell_type": "markdown",
   "source": [
    "Implementacja regresji logistycznej. Jako że atrybut num ma wartości 0 do 4 a wartości >=1 oznaczają chorobę\n",
    "serca, więc przypisujemy wartości 1 do wartości >=1 a wartości 0 pozostawiamy bez zmian. Dzięki temu regresja logistyczna która zwraca wartości od 0 do 1 ma więcej sensu i będzie łatwiejsza do implementacji"
   ],
   "metadata": {
    "collapsed": false
   }
  },
  {
   "cell_type": "code",
   "execution_count": 5,
   "outputs": [],
   "source": [
    "\n"
   ],
   "metadata": {
    "collapsed": false,
    "ExecuteTime": {
     "start_time": "2023-10-17T10:33:35.976100Z",
     "end_time": "2023-10-17T10:33:35.978136Z"
    }
   }
  },
  {
   "cell_type": "code",
   "execution_count": 6,
   "outputs": [
    {
     "name": "stderr",
     "output_type": "stream",
     "text": [
      "C:\\Users\\kubas\\AppData\\Local\\Temp\\ipykernel_5384\\2407195363.py:56: SettingWithCopyWarning: \n",
      "A value is trying to be set on a copy of a slice from a DataFrame\n",
      "\n",
      "See the caveats in the documentation: https://pandas.pydata.org/pandas-docs/stable/user_guide/indexing.html#returning-a-view-versus-a-copy\n",
      "  X['thal'].fillna(value=mean_value_thal,inplace=True)\n",
      "C:\\Users\\kubas\\AppData\\Local\\Temp\\ipykernel_5384\\2407195363.py:58: SettingWithCopyWarning: \n",
      "A value is trying to be set on a copy of a slice from a DataFrame\n",
      "\n",
      "See the caveats in the documentation: https://pandas.pydata.org/pandas-docs/stable/user_guide/indexing.html#returning-a-view-versus-a-copy\n",
      "  X['ca'].fillna(value=mean_value_ca,inplace=True)\n",
      "C:\\Users\\kubas\\AppData\\Local\\Temp\\ipykernel_5384\\2407195363.py:8: RuntimeWarning: overflow encountered in exp\n",
      "  return 1 / (1 + np.exp(-z))\n"
     ]
    },
    {
     "name": "stdout",
     "output_type": "stream",
     "text": [
      "Preciosion: 0.7692307692307693\n",
      "Recall: 0.5882352941176471\n",
      "Accuracy: 0.7368421052631579\n",
      "F1: 0.6666666666666667\n"
     ]
    }
   ],
   "source": [
    "class MyLogisticRegression:\n",
    "    def __init__(self, learning_rate=0.05, num_iterations=1000, batch_size=32):\n",
    "        self.learning_rate = learning_rate\n",
    "        self.num_iterations = num_iterations\n",
    "        self.batch_size = batch_size\n",
    "\n",
    "    def sigmoid(self, z):\n",
    "        return 1 / (1 + np.exp(-z))\n",
    "\n",
    "    def fit(self, X, y):\n",
    "        # Inicjalizacja wag i biasu\n",
    "        #initalize random weights\n",
    "        self.theta = np.random.rand(X.shape[1])\n",
    "        self.bias = 0\n",
    "\n",
    "        m = X.shape[0]\n",
    "\n",
    "        for _ in range(self.num_iterations):\n",
    "            # Mieszanie danych treningowych\n",
    "            indices = np.arange(m)\n",
    "            np.random.shuffle(indices)\n",
    "\n",
    "            for i in range(0, m, self.batch_size):\n",
    "                batch_indices = indices[i:i + self.batch_size]\n",
    "                X_batch = []\n",
    "                y_batch = []\n",
    "                for index in batch_indices:\n",
    "                    X_batch.append((X.iloc[index]).to_numpy())\n",
    "                    y_batch.append(y[index][0])\n",
    "                X_batch = np.array(X_batch)\n",
    "\n",
    "\n",
    "                linear_model = np.dot(X_batch, self.theta) + self.bias\n",
    "                predictions = self.sigmoid(linear_model)\n",
    "\n",
    "             # Obliczenie gradientów\n",
    "                dw = (1 / self.batch_size) * np.dot(X_batch.T, (predictions - y_batch))\n",
    "                db = (1 / self.batch_size) * np.sum(predictions - y_batch)\n",
    "\n",
    "                # Aktualizacja wag i biasu\n",
    "                self.theta -= self.learning_rate * dw\n",
    "                self.bias -= self.learning_rate * db\n",
    "\n",
    "    def predict(self, X):\n",
    "        linear_model = np.dot(X, self.theta) + self.bias\n",
    "        predictions = self.sigmoid(linear_model)\n",
    "        return (predictions > 0.5).astype(int)\n",
    "\n",
    "from sklearn.model_selection import train_test_split\n",
    "from sklearn.metrics import precision_score, recall_score, accuracy_score, f1_score\n",
    "\n",
    "y = np.where(y >= 1, 1, y)\n",
    "mean_value_thal=X['thal'].mean()\n",
    "X['thal'].fillna(value=mean_value_thal,inplace=True)\n",
    "mean_value_ca=X['ca'].mean()\n",
    "X['ca'].fillna(value=mean_value_ca,inplace=True)\n",
    "\n",
    "\n",
    "\n",
    "\n",
    "X_train, X_test, y_train, y_test = train_test_split(X, y)\n",
    "\n",
    "model = MyLogisticRegression()\n",
    "model.fit(X_train, y_train)\n",
    "y_pred = model.predict(X_test)\n",
    "\n",
    "preciosion = precision_score(y_test, y_pred)\n",
    "recall = recall_score(y_test, y_pred)\n",
    "accuracy = accuracy_score(y_test, y_pred)\n",
    "f1 = f1_score(y_test, y_pred)\n",
    "\n",
    "print(f'Preciosion: {preciosion}')\n",
    "print(f'Recall: {recall}')\n",
    "print(f'Accuracy: {accuracy}')\n",
    "print(f'F1: {f1}')\n",
    "\n",
    "\n"
   ],
   "metadata": {
    "collapsed": false,
    "ExecuteTime": {
     "start_time": "2023-10-17T10:33:35.990083Z",
     "end_time": "2023-10-17T10:33:41.792452Z"
    }
   }
  },
  {
   "cell_type": "markdown",
   "source": [
    "Podział danych na zbiór treningowy i testowy"
   ],
   "metadata": {
    "collapsed": false
   }
  },
  {
   "cell_type": "code",
   "execution_count": 6,
   "outputs": [],
   "source": [
    "\n"
   ],
   "metadata": {
    "collapsed": false,
    "ExecuteTime": {
     "start_time": "2023-10-17T10:33:41.796645Z",
     "end_time": "2023-10-17T10:33:41.796645Z"
    }
   }
  },
  {
   "cell_type": "code",
   "execution_count": 6,
   "outputs": [],
   "source": [],
   "metadata": {
    "collapsed": false,
    "ExecuteTime": {
     "start_time": "2023-10-17T10:33:41.799573Z",
     "end_time": "2023-10-17T10:33:41.800213Z"
    }
   }
  }
 ],
 "metadata": {
  "kernelspec": {
   "display_name": "Python 3",
   "language": "python",
   "name": "python3"
  },
  "language_info": {
   "codemirror_mode": {
    "name": "ipython",
    "version": 2
   },
   "file_extension": ".py",
   "mimetype": "text/x-python",
   "name": "python",
   "nbconvert_exporter": "python",
   "pygments_lexer": "ipython2",
   "version": "2.7.6"
  }
 },
 "nbformat": 4,
 "nbformat_minor": 0
}
