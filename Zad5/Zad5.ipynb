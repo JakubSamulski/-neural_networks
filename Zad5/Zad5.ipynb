{
 "cells": [
  {
   "cell_type": "code",
   "execution_count": 9,
   "id": "initial_id",
   "metadata": {
    "collapsed": true,
    "ExecuteTime": {
     "end_time": "2023-11-12T17:32:29.887086600Z",
     "start_time": "2023-11-12T17:32:29.841060700Z"
    }
   },
   "outputs": [],
   "source": [
    "from torchvision import transforms\n",
    "import torchvision\n",
    "import torch\n",
    "\n",
    "transform = transforms.Compose([\n",
    "    transforms.ToTensor(),\n",
    "])\n",
    "\n",
    "data = torchvision.datasets.FashionMNIST('path', download = True,transform=transform)\n",
    "data_loader = torch.utils.data.DataLoader(data,\n",
    " batch_size=16,\n",
    " shuffle=True)\n"
   ]
  },
  {
   "cell_type": "markdown",
   "source": [
    "Podział na zbiór treningowy i tesowy\n"
   ],
   "metadata": {
    "collapsed": false
   },
   "id": "cb4de60642e75c1e"
  },
  {
   "cell_type": "code",
   "execution_count": 10,
   "outputs": [],
   "source": [
    "from torch.utils.data import random_split, DataLoader\n",
    "\n",
    "\n",
    "\n",
    "total_size = len(data)\n",
    "train_size = int(0.8 * total_size)  # 80% danych uczących\n",
    "test_size = total_size - train_size  # 20% danych testowych\n",
    "\n",
    "train_dataset, test_dataset = random_split(data, [train_size, test_size])\n",
    "train_loader = DataLoader(train_dataset, batch_size=16, shuffle=True)\n",
    "test_loader = DataLoader(test_dataset, batch_size=16, shuffle=False)"
   ],
   "metadata": {
    "collapsed": false,
    "ExecuteTime": {
     "end_time": "2023-11-12T17:32:29.891600600Z",
     "start_time": "2023-11-12T17:32:29.874058200Z"
    }
   },
   "id": "4a95feeda7620487"
  },
  {
   "cell_type": "markdown",
   "source": [
    "Definicja modelu"
   ],
   "metadata": {
    "collapsed": false
   },
   "id": "df5f66249ac56f1b"
  },
  {
   "cell_type": "code",
   "execution_count": 11,
   "outputs": [],
   "source": [
    "from torch import nn\n",
    "\n",
    "\n",
    "class FashionMNISTModel(nn.Module):\n",
    "    def __init__(self, input_size, hidden_size1, hidden_size2, output_size):\n",
    "        super(FashionMNISTModel, self).__init__()\n",
    "        self.fc1 = nn.Linear(input_size, hidden_size1)\n",
    "        self.relu1 = nn.ReLU()\n",
    "        self.fc2 = nn.Linear(hidden_size1, hidden_size2)\n",
    "        self.relu2 = nn.ReLU()\n",
    "        self.fc3 = nn.Linear(hidden_size2, output_size)\n",
    "\n",
    "    def forward(self, x):\n",
    "        x = x.flatten(start_dim=1)  # Spłaszcz tensor wejściowy\n",
    "        x = self.fc1(x)\n",
    "        x = self.relu1(x)\n",
    "        x = self.fc2(x)\n",
    "        x = self.relu2(x)\n",
    "        x = self.fc3(x)\n",
    "        return x\n",
    "   "
   ],
   "metadata": {
    "collapsed": false,
    "ExecuteTime": {
     "end_time": "2023-11-12T17:32:29.903601400Z",
     "start_time": "2023-11-12T17:32:29.890602300Z"
    }
   },
   "id": "d5f0161206837996"
  },
  {
   "cell_type": "markdown",
   "source": [
    "Trening"
   ],
   "metadata": {
    "collapsed": false
   },
   "id": "dfaf04adeed9d879"
  },
  {
   "cell_type": "code",
   "execution_count": 12,
   "outputs": [
    {
     "name": "stdout",
     "output_type": "stream",
     "text": [
      "Epoch [1/5], Step [100/3750], Loss: 0.5784\n",
      "Epoch [1/5], Step [200/3750], Loss: 0.9642\n",
      "Epoch [1/5], Step [300/3750], Loss: 0.4115\n",
      "Epoch [1/5], Step [400/3750], Loss: 0.4095\n",
      "Epoch [1/5], Step [500/3750], Loss: 0.3238\n",
      "Epoch [1/5], Step [600/3750], Loss: 0.4906\n",
      "Epoch [1/5], Step [700/3750], Loss: 0.3457\n",
      "Epoch [1/5], Step [800/3750], Loss: 0.6338\n",
      "Epoch [1/5], Step [900/3750], Loss: 0.2652\n",
      "Epoch [1/5], Step [1000/3750], Loss: 0.6269\n",
      "Epoch [1/5], Step [1100/3750], Loss: 0.3903\n",
      "Epoch [1/5], Step [1200/3750], Loss: 0.4097\n",
      "Epoch [1/5], Step [1300/3750], Loss: 0.6353\n",
      "Epoch [1/5], Step [1400/3750], Loss: 0.2457\n",
      "Epoch [1/5], Step [1500/3750], Loss: 0.7461\n",
      "Epoch [1/5], Step [1600/3750], Loss: 0.7202\n",
      "Epoch [1/5], Step [1700/3750], Loss: 0.3783\n",
      "Epoch [1/5], Step [1800/3750], Loss: 0.2316\n",
      "Epoch [1/5], Step [1900/3750], Loss: 0.4582\n",
      "Epoch [1/5], Step [2000/3750], Loss: 0.3465\n",
      "Epoch [1/5], Step [2100/3750], Loss: 0.7960\n",
      "Epoch [1/5], Step [2200/3750], Loss: 0.3918\n",
      "Epoch [1/5], Step [2300/3750], Loss: 0.3118\n",
      "Epoch [1/5], Step [2400/3750], Loss: 0.2462\n",
      "Epoch [1/5], Step [2500/3750], Loss: 0.2246\n",
      "Epoch [1/5], Step [2600/3750], Loss: 0.5589\n",
      "Epoch [1/5], Step [2700/3750], Loss: 0.1184\n",
      "Epoch [1/5], Step [2800/3750], Loss: 0.6154\n",
      "Epoch [1/5], Step [2900/3750], Loss: 0.4305\n",
      "Epoch [1/5], Step [3000/3750], Loss: 0.3266\n",
      "Epoch [1/5], Step [3100/3750], Loss: 0.2149\n",
      "Epoch [1/5], Step [3200/3750], Loss: 0.2610\n",
      "Epoch [1/5], Step [3300/3750], Loss: 0.2701\n",
      "Epoch [1/5], Step [3400/3750], Loss: 0.6036\n",
      "Epoch [1/5], Step [3500/3750], Loss: 0.2050\n",
      "Epoch [1/5], Step [3600/3750], Loss: 0.2037\n",
      "Epoch [1/5], Step [3700/3750], Loss: 0.3771\n",
      "Epoch [2/5], Step [100/3750], Loss: 0.3919\n",
      "Epoch [2/5], Step [200/3750], Loss: 0.3419\n",
      "Epoch [2/5], Step [300/3750], Loss: 0.3079\n",
      "Epoch [2/5], Step [400/3750], Loss: 0.1330\n",
      "Epoch [2/5], Step [500/3750], Loss: 0.1878\n",
      "Epoch [2/5], Step [600/3750], Loss: 0.3181\n",
      "Epoch [2/5], Step [700/3750], Loss: 0.5147\n",
      "Epoch [2/5], Step [800/3750], Loss: 0.5825\n",
      "Epoch [2/5], Step [900/3750], Loss: 0.3364\n",
      "Epoch [2/5], Step [1000/3750], Loss: 0.3968\n",
      "Epoch [2/5], Step [1100/3750], Loss: 0.1707\n",
      "Epoch [2/5], Step [1200/3750], Loss: 0.5916\n",
      "Epoch [2/5], Step [1300/3750], Loss: 0.6407\n",
      "Epoch [2/5], Step [1400/3750], Loss: 0.2102\n",
      "Epoch [2/5], Step [1500/3750], Loss: 0.6705\n",
      "Epoch [2/5], Step [1600/3750], Loss: 0.2072\n",
      "Epoch [2/5], Step [1700/3750], Loss: 0.2887\n",
      "Epoch [2/5], Step [1800/3750], Loss: 0.3261\n",
      "Epoch [2/5], Step [1900/3750], Loss: 0.4070\n",
      "Epoch [2/5], Step [2000/3750], Loss: 0.2797\n",
      "Epoch [2/5], Step [2100/3750], Loss: 0.1121\n",
      "Epoch [2/5], Step [2200/3750], Loss: 0.1912\n",
      "Epoch [2/5], Step [2300/3750], Loss: 0.6773\n",
      "Epoch [2/5], Step [2400/3750], Loss: 0.2267\n",
      "Epoch [2/5], Step [2500/3750], Loss: 0.3419\n",
      "Epoch [2/5], Step [2600/3750], Loss: 0.1561\n",
      "Epoch [2/5], Step [2700/3750], Loss: 0.2735\n",
      "Epoch [2/5], Step [2800/3750], Loss: 0.1860\n",
      "Epoch [2/5], Step [2900/3750], Loss: 0.1979\n",
      "Epoch [2/5], Step [3000/3750], Loss: 0.2557\n",
      "Epoch [2/5], Step [3100/3750], Loss: 0.3410\n",
      "Epoch [2/5], Step [3200/3750], Loss: 0.1917\n",
      "Epoch [2/5], Step [3300/3750], Loss: 0.4694\n",
      "Epoch [2/5], Step [3400/3750], Loss: 0.2053\n",
      "Epoch [2/5], Step [3500/3750], Loss: 0.6430\n",
      "Epoch [2/5], Step [3600/3750], Loss: 0.1217\n",
      "Epoch [2/5], Step [3700/3750], Loss: 0.2173\n",
      "Epoch [3/5], Step [100/3750], Loss: 0.4924\n",
      "Epoch [3/5], Step [200/3750], Loss: 0.1829\n",
      "Epoch [3/5], Step [300/3750], Loss: 0.1611\n",
      "Epoch [3/5], Step [400/3750], Loss: 0.4103\n",
      "Epoch [3/5], Step [500/3750], Loss: 0.3524\n",
      "Epoch [3/5], Step [600/3750], Loss: 0.6012\n",
      "Epoch [3/5], Step [700/3750], Loss: 0.2251\n",
      "Epoch [3/5], Step [800/3750], Loss: 0.7673\n",
      "Epoch [3/5], Step [900/3750], Loss: 0.4001\n",
      "Epoch [3/5], Step [1000/3750], Loss: 0.6802\n",
      "Epoch [3/5], Step [1100/3750], Loss: 0.4563\n",
      "Epoch [3/5], Step [1200/3750], Loss: 0.3543\n",
      "Epoch [3/5], Step [1300/3750], Loss: 0.2566\n",
      "Epoch [3/5], Step [1400/3750], Loss: 0.1639\n",
      "Epoch [3/5], Step [1500/3750], Loss: 0.0928\n",
      "Epoch [3/5], Step [1600/3750], Loss: 0.4986\n",
      "Epoch [3/5], Step [1700/3750], Loss: 0.3564\n",
      "Epoch [3/5], Step [1800/3750], Loss: 0.2753\n",
      "Epoch [3/5], Step [1900/3750], Loss: 0.6531\n",
      "Epoch [3/5], Step [2000/3750], Loss: 0.2683\n",
      "Epoch [3/5], Step [2100/3750], Loss: 0.3285\n",
      "Epoch [3/5], Step [2200/3750], Loss: 0.1584\n",
      "Epoch [3/5], Step [2300/3750], Loss: 0.5902\n",
      "Epoch [3/5], Step [2400/3750], Loss: 0.3023\n",
      "Epoch [3/5], Step [2500/3750], Loss: 0.4864\n",
      "Epoch [3/5], Step [2600/3750], Loss: 0.1652\n",
      "Epoch [3/5], Step [2700/3750], Loss: 0.3183\n",
      "Epoch [3/5], Step [2800/3750], Loss: 0.5388\n",
      "Epoch [3/5], Step [2900/3750], Loss: 0.2043\n",
      "Epoch [3/5], Step [3000/3750], Loss: 0.1915\n",
      "Epoch [3/5], Step [3100/3750], Loss: 0.0984\n",
      "Epoch [3/5], Step [3200/3750], Loss: 0.4161\n",
      "Epoch [3/5], Step [3300/3750], Loss: 0.2801\n",
      "Epoch [3/5], Step [3400/3750], Loss: 0.3121\n",
      "Epoch [3/5], Step [3500/3750], Loss: 0.1816\n",
      "Epoch [3/5], Step [3600/3750], Loss: 0.4584\n",
      "Epoch [3/5], Step [3700/3750], Loss: 0.3878\n",
      "Epoch [4/5], Step [100/3750], Loss: 0.7480\n",
      "Epoch [4/5], Step [200/3750], Loss: 0.4047\n",
      "Epoch [4/5], Step [300/3750], Loss: 0.1727\n",
      "Epoch [4/5], Step [400/3750], Loss: 0.3779\n",
      "Epoch [4/5], Step [500/3750], Loss: 0.5692\n",
      "Epoch [4/5], Step [600/3750], Loss: 0.1077\n",
      "Epoch [4/5], Step [700/3750], Loss: 0.2209\n",
      "Epoch [4/5], Step [800/3750], Loss: 0.5749\n",
      "Epoch [4/5], Step [900/3750], Loss: 0.3748\n",
      "Epoch [4/5], Step [1000/3750], Loss: 0.7873\n",
      "Epoch [4/5], Step [1100/3750], Loss: 0.2580\n",
      "Epoch [4/5], Step [1200/3750], Loss: 0.3995\n",
      "Epoch [4/5], Step [1300/3750], Loss: 0.4664\n",
      "Epoch [4/5], Step [1400/3750], Loss: 0.4548\n",
      "Epoch [4/5], Step [1500/3750], Loss: 0.5856\n",
      "Epoch [4/5], Step [1600/3750], Loss: 0.2509\n",
      "Epoch [4/5], Step [1700/3750], Loss: 0.3933\n",
      "Epoch [4/5], Step [1800/3750], Loss: 0.0615\n",
      "Epoch [4/5], Step [1900/3750], Loss: 0.1603\n",
      "Epoch [4/5], Step [2000/3750], Loss: 0.2725\n",
      "Epoch [4/5], Step [2100/3750], Loss: 0.7047\n",
      "Epoch [4/5], Step [2200/3750], Loss: 0.1431\n",
      "Epoch [4/5], Step [2300/3750], Loss: 0.0909\n",
      "Epoch [4/5], Step [2400/3750], Loss: 0.2155\n",
      "Epoch [4/5], Step [2500/3750], Loss: 0.3600\n",
      "Epoch [4/5], Step [2600/3750], Loss: 0.5899\n",
      "Epoch [4/5], Step [2700/3750], Loss: 0.6125\n",
      "Epoch [4/5], Step [2800/3750], Loss: 0.2487\n",
      "Epoch [4/5], Step [2900/3750], Loss: 0.1626\n",
      "Epoch [4/5], Step [3000/3750], Loss: 0.5586\n",
      "Epoch [4/5], Step [3100/3750], Loss: 0.0970\n",
      "Epoch [4/5], Step [3200/3750], Loss: 0.3983\n",
      "Epoch [4/5], Step [3300/3750], Loss: 0.0971\n",
      "Epoch [4/5], Step [3400/3750], Loss: 0.2610\n",
      "Epoch [4/5], Step [3500/3750], Loss: 0.1077\n",
      "Epoch [4/5], Step [3600/3750], Loss: 0.4398\n",
      "Epoch [4/5], Step [3700/3750], Loss: 0.2941\n",
      "Epoch [5/5], Step [100/3750], Loss: 0.0594\n",
      "Epoch [5/5], Step [200/3750], Loss: 0.4897\n",
      "Epoch [5/5], Step [300/3750], Loss: 0.8106\n",
      "Epoch [5/5], Step [400/3750], Loss: 0.1263\n",
      "Epoch [5/5], Step [500/3750], Loss: 0.3705\n",
      "Epoch [5/5], Step [600/3750], Loss: 0.2086\n",
      "Epoch [5/5], Step [700/3750], Loss: 0.2097\n",
      "Epoch [5/5], Step [800/3750], Loss: 0.6537\n",
      "Epoch [5/5], Step [900/3750], Loss: 0.4191\n",
      "Epoch [5/5], Step [1000/3750], Loss: 0.2793\n",
      "Epoch [5/5], Step [1100/3750], Loss: 0.0473\n",
      "Epoch [5/5], Step [1200/3750], Loss: 0.5147\n",
      "Epoch [5/5], Step [1300/3750], Loss: 0.1735\n",
      "Epoch [5/5], Step [1400/3750], Loss: 0.1430\n",
      "Epoch [5/5], Step [1500/3750], Loss: 0.1416\n",
      "Epoch [5/5], Step [1600/3750], Loss: 0.2051\n",
      "Epoch [5/5], Step [1700/3750], Loss: 0.2334\n",
      "Epoch [5/5], Step [1800/3750], Loss: 0.4479\n",
      "Epoch [5/5], Step [1900/3750], Loss: 0.3597\n",
      "Epoch [5/5], Step [2000/3750], Loss: 0.3765\n",
      "Epoch [5/5], Step [2100/3750], Loss: 0.3343\n",
      "Epoch [5/5], Step [2200/3750], Loss: 0.2257\n",
      "Epoch [5/5], Step [2300/3750], Loss: 0.2381\n",
      "Epoch [5/5], Step [2400/3750], Loss: 0.1681\n",
      "Epoch [5/5], Step [2500/3750], Loss: 0.3267\n",
      "Epoch [5/5], Step [2600/3750], Loss: 0.2257\n",
      "Epoch [5/5], Step [2700/3750], Loss: 0.2100\n",
      "Epoch [5/5], Step [2800/3750], Loss: 0.1348\n",
      "Epoch [5/5], Step [2900/3750], Loss: 0.2867\n",
      "Epoch [5/5], Step [3000/3750], Loss: 0.1305\n",
      "Epoch [5/5], Step [3100/3750], Loss: 0.2598\n",
      "Epoch [5/5], Step [3200/3750], Loss: 0.0427\n",
      "Epoch [5/5], Step [3300/3750], Loss: 0.3106\n",
      "Epoch [5/5], Step [3400/3750], Loss: 0.2965\n",
      "Epoch [5/5], Step [3500/3750], Loss: 0.0788\n",
      "Epoch [5/5], Step [3600/3750], Loss: 0.2065\n",
      "Epoch [5/5], Step [3700/3750], Loss: 0.2182\n",
      "Trening zakończony pomyślnie!\n"
     ]
    }
   ],
   "source": [
    "from torch import optim\n",
    "\n",
    "input_size = 28 * 28  # Rozmiar obrazu FashionMNIST\n",
    "hidden_size1 = 128\n",
    "hidden_size2 = 64\n",
    "output_size = 10  # 10 klas w FashionMNIST\n",
    "model = FashionMNISTModel(input_size, hidden_size1, hidden_size2, output_size)\n",
    "criterion = nn.CrossEntropyLoss()\n",
    "optimizer = optim.Adam(model.parameters(), lr=0.001)\n",
    "\n",
    "# Trening modelu\n",
    "num_epochs = 5\n",
    "for epoch in range(num_epochs):\n",
    "    for i, (images, labels) in enumerate(data_loader):\n",
    "        # Przygotuj dane\n",
    "        outputs = model(images)\n",
    "        loss = criterion(outputs, labels)\n",
    "\n",
    "        # Wsteczna propagacja i aktualizacja wag\n",
    "        optimizer.zero_grad()\n",
    "        loss.backward()\n",
    "        optimizer.step()\n",
    "\n",
    "        # Wyświetl postęp\n",
    "        if (i + 1) % 100 == 0:\n",
    "            print(f'Epoch [{epoch + 1}/{num_epochs}], Step [{i + 1}/{len(data_loader)}], Loss: {loss.item():.4f}')\n",
    "\n",
    "print(\"Trening zakończony pomyślnie!\")"
   ],
   "metadata": {
    "collapsed": false,
    "ExecuteTime": {
     "end_time": "2023-11-12T17:33:02.145218600Z",
     "start_time": "2023-11-12T17:32:29.905600700Z"
    }
   },
   "id": "7928ea560168f23c"
  },
  {
   "cell_type": "code",
   "execution_count": 12,
   "outputs": [],
   "source": [],
   "metadata": {
    "collapsed": false,
    "ExecuteTime": {
     "end_time": "2023-11-12T17:33:02.160278600Z",
     "start_time": "2023-11-12T17:33:02.144218Z"
    }
   },
   "id": "1f26bd9c295f930e"
  },
  {
   "cell_type": "markdown",
   "source": [
    "Test modelu na zbiorze testowym"
   ],
   "metadata": {
    "collapsed": false
   },
   "id": "7bc838f241a53a4c"
  },
  {
   "cell_type": "code",
   "execution_count": 13,
   "outputs": [
    {
     "name": "stdout",
     "output_type": "stream",
     "text": [
      "Dokładność modelu na zbiorze testowym: 90.58%\n"
     ]
    }
   ],
   "source": [
    "model.eval()  # Ustaw model w tryb ewaluacji (wyłącza dropout i batch normalization)\n",
    "\n",
    "correct = 0\n",
    "total = 0\n",
    "\n",
    "with torch.no_grad():\n",
    "    for images, labels in test_loader:\n",
    "        outputs = model(images)\n",
    "        _, predicted = torch.max(outputs.data, 1)\n",
    "        total += labels.size(0)\n",
    "        correct += (predicted == labels).sum().item()\n",
    "\n",
    "accuracy = correct / total\n",
    "print(f'Dokładność modelu na zbiorze testowym: {accuracy * 100:.2f}%')\n"
   ],
   "metadata": {
    "collapsed": false,
    "ExecuteTime": {
     "end_time": "2023-11-12T17:33:02.827118Z",
     "start_time": "2023-11-12T17:33:02.161273900Z"
    }
   },
   "id": "9905fe17254d41e4"
  },
  {
   "cell_type": "markdown",
   "source": [],
   "metadata": {
    "collapsed": false
   },
   "id": "d4acd6c58b4948c0"
  }
 ],
 "metadata": {
  "kernelspec": {
   "display_name": "Python 3",
   "language": "python",
   "name": "python3"
  },
  "language_info": {
   "codemirror_mode": {
    "name": "ipython",
    "version": 2
   },
   "file_extension": ".py",
   "mimetype": "text/x-python",
   "name": "python",
   "nbconvert_exporter": "python",
   "pygments_lexer": "ipython2",
   "version": "2.7.6"
  }
 },
 "nbformat": 4,
 "nbformat_minor": 5
}
