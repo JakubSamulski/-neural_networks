{
 "cells": [
  {
   "cell_type": "code",
   "execution_count": 36,
   "id": "initial_id",
   "metadata": {
    "collapsed": true,
    "ExecuteTime": {
     "end_time": "2023-11-13T18:29:27.480230600Z",
     "start_time": "2023-11-13T18:29:27.458231900Z"
    }
   },
   "outputs": [],
   "source": [
    "import torch\n",
    "from torch.utils.data import Dataset, random_split, DataLoader\n",
    "import torchvision\n",
    "from torchvision import transforms\n",
    "\n",
    "\n",
    "\n",
    "\n",
    "transform = transforms.Compose([\n",
    "    transforms.ToTensor(),\n",
    "])\n",
    "\n",
    "\n",
    "data = torchvision.datasets.FashionMNIST('path', download=True, transform=transform)\n",
    "\n",
    "data_loader = torch.utils.data.DataLoader(data, batch_size=16, shuffle=True)"
   ]
  },
  {
   "cell_type": "markdown",
   "source": [
    "Podział na zbiór treningowy i tesowy\n"
   ],
   "metadata": {
    "collapsed": false
   },
   "id": "cb4de60642e75c1e"
  },
  {
   "cell_type": "code",
   "execution_count": 37,
   "outputs": [
    {
     "name": "stdout",
     "output_type": "stream",
     "text": [
      "0 48000 12000\n"
     ]
    }
   ],
   "source": [
    "import numpy as np\n",
    "from torch.utils.data import random_split, DataLoader\n",
    "\n",
    "\n",
    "total_size = len(data)\n",
    "train_size = int(0.8 * total_size)  \n",
    "unused_size = int(0 * total_size)  \n",
    "test_size = total_size - train_size - unused_size  \n",
    "\n",
    "train_dataset, test_dataset, _ = random_split(data, [train_size, test_size, unused_size])\n",
    "\n",
    "\n",
    "\n",
    "\n",
    "train_loader = DataLoader(train_dataset, batch_size=16, shuffle=True)\n",
    "test_loader = DataLoader(test_dataset, batch_size=16, shuffle=False)\n",
    "\n",
    "print(unused_size, train_size, test_size)"
   ],
   "metadata": {
    "collapsed": false,
    "ExecuteTime": {
     "end_time": "2023-11-13T18:29:27.491229500Z",
     "start_time": "2023-11-13T18:29:27.478231300Z"
    }
   },
   "id": "4a95feeda7620487"
  },
  {
   "cell_type": "markdown",
   "source": [
    "Definicja modelu"
   ],
   "metadata": {
    "collapsed": false
   },
   "id": "df5f66249ac56f1b"
  },
  {
   "cell_type": "code",
   "execution_count": 38,
   "outputs": [],
   "source": [
    "from torch import nn\n",
    "\n",
    "\n",
    "class FashionMNISTModel(nn.Module):\n",
    "    def __init__(self, input_size, hidden_size1, hidden_size2, output_size):\n",
    "        super(FashionMNISTModel, self).__init__()\n",
    "        self.fc1 = nn.Linear(input_size, hidden_size1)\n",
    "        self.relu2 = nn.ReLU()\n",
    "        self.fc3 = nn.Linear(hidden_size1, output_size)\n",
    "\n",
    "    def forward(self, x):\n",
    "        x = x.flatten(start_dim=1)  # Spłaszcz tensor wejściowy\n",
    "        x = self.fc1(x)\n",
    "        x = self.relu2(x)\n",
    "        x = self.fc3(x)\n",
    "        return x\n",
    "   "
   ],
   "metadata": {
    "collapsed": false,
    "ExecuteTime": {
     "end_time": "2023-11-13T18:29:27.538738200Z",
     "start_time": "2023-11-13T18:29:27.492231800Z"
    }
   },
   "id": "d5f0161206837996"
  },
  {
   "cell_type": "markdown",
   "source": [
    "Trening"
   ],
   "metadata": {
    "collapsed": false
   },
   "id": "dfaf04adeed9d879"
  },
  {
   "cell_type": "code",
   "execution_count": 39,
   "outputs": [
    {
     "name": "stdout",
     "output_type": "stream",
     "text": [
      "Epoch [1/5], Step [100/3750], Loss: 0.4536\n",
      "Epoch [1/5], Step [200/3750], Loss: 1.1571\n",
      "Epoch [1/5], Step [300/3750], Loss: 0.5324\n",
      "Epoch [1/5], Step [400/3750], Loss: 0.2255\n",
      "Epoch [1/5], Step [500/3750], Loss: 0.3840\n",
      "Epoch [1/5], Step [600/3750], Loss: 0.2874\n",
      "Epoch [1/5], Step [700/3750], Loss: 0.8997\n",
      "Epoch [1/5], Step [800/3750], Loss: 0.5333\n",
      "Epoch [1/5], Step [900/3750], Loss: 0.3373\n",
      "Epoch [1/5], Step [1000/3750], Loss: 0.0465\n",
      "Epoch [1/5], Step [1100/3750], Loss: 0.6006\n",
      "Epoch [1/5], Step [1200/3750], Loss: 0.4817\n",
      "Epoch [1/5], Step [1300/3750], Loss: 0.8152\n",
      "Epoch [1/5], Step [1400/3750], Loss: 0.4192\n",
      "Epoch [1/5], Step [1500/3750], Loss: 0.4727\n",
      "Epoch [1/5], Step [1600/3750], Loss: 0.3554\n",
      "Epoch [1/5], Step [1700/3750], Loss: 0.7902\n",
      "Epoch [1/5], Step [1800/3750], Loss: 0.4066\n",
      "Epoch [1/5], Step [1900/3750], Loss: 0.5682\n",
      "Epoch [1/5], Step [2000/3750], Loss: 0.7884\n",
      "Epoch [1/5], Step [2100/3750], Loss: 0.3829\n",
      "Epoch [1/5], Step [2200/3750], Loss: 0.2331\n",
      "Epoch [1/5], Step [2300/3750], Loss: 0.2551\n",
      "Epoch [1/5], Step [2400/3750], Loss: 0.2953\n",
      "Epoch [1/5], Step [2500/3750], Loss: 0.2537\n",
      "Epoch [1/5], Step [2600/3750], Loss: 0.3656\n",
      "Epoch [1/5], Step [2700/3750], Loss: 0.4119\n",
      "Epoch [1/5], Step [2800/3750], Loss: 0.4876\n",
      "Epoch [1/5], Step [2900/3750], Loss: 0.6530\n",
      "Epoch [1/5], Step [3000/3750], Loss: 0.3966\n",
      "Epoch [1/5], Step [3100/3750], Loss: 0.6885\n",
      "Epoch [1/5], Step [3200/3750], Loss: 0.2034\n",
      "Epoch [1/5], Step [3300/3750], Loss: 0.3874\n",
      "Epoch [1/5], Step [3400/3750], Loss: 0.4685\n",
      "Epoch [1/5], Step [3500/3750], Loss: 0.2719\n",
      "Epoch [1/5], Step [3600/3750], Loss: 0.2600\n",
      "Epoch [1/5], Step [3700/3750], Loss: 0.6961\n",
      "Epoch [2/5], Step [100/3750], Loss: 0.3834\n",
      "Epoch [2/5], Step [200/3750], Loss: 0.1387\n",
      "Epoch [2/5], Step [300/3750], Loss: 0.2077\n",
      "Epoch [2/5], Step [400/3750], Loss: 0.5307\n",
      "Epoch [2/5], Step [500/3750], Loss: 0.3387\n",
      "Epoch [2/5], Step [600/3750], Loss: 0.1976\n",
      "Epoch [2/5], Step [700/3750], Loss: 0.3425\n",
      "Epoch [2/5], Step [800/3750], Loss: 0.2292\n",
      "Epoch [2/5], Step [900/3750], Loss: 1.4164\n",
      "Epoch [2/5], Step [1000/3750], Loss: 0.3883\n",
      "Epoch [2/5], Step [1100/3750], Loss: 0.2908\n",
      "Epoch [2/5], Step [1200/3750], Loss: 0.4807\n",
      "Epoch [2/5], Step [1300/3750], Loss: 0.2101\n",
      "Epoch [2/5], Step [1400/3750], Loss: 0.3478\n",
      "Epoch [2/5], Step [1500/3750], Loss: 0.0468\n",
      "Epoch [2/5], Step [1600/3750], Loss: 0.3227\n",
      "Epoch [2/5], Step [1700/3750], Loss: 0.5775\n",
      "Epoch [2/5], Step [1800/3750], Loss: 0.3544\n",
      "Epoch [2/5], Step [1900/3750], Loss: 0.2220\n",
      "Epoch [2/5], Step [2000/3750], Loss: 0.5049\n",
      "Epoch [2/5], Step [2100/3750], Loss: 0.3355\n",
      "Epoch [2/5], Step [2200/3750], Loss: 0.2639\n",
      "Epoch [2/5], Step [2300/3750], Loss: 0.5146\n",
      "Epoch [2/5], Step [2400/3750], Loss: 0.3782\n",
      "Epoch [2/5], Step [2500/3750], Loss: 0.3327\n",
      "Epoch [2/5], Step [2600/3750], Loss: 0.3107\n",
      "Epoch [2/5], Step [2700/3750], Loss: 0.5193\n",
      "Epoch [2/5], Step [2800/3750], Loss: 0.1933\n",
      "Epoch [2/5], Step [2900/3750], Loss: 0.3214\n",
      "Epoch [2/5], Step [3000/3750], Loss: 0.1791\n",
      "Epoch [2/5], Step [3100/3750], Loss: 0.4750\n",
      "Epoch [2/5], Step [3200/3750], Loss: 0.2539\n",
      "Epoch [2/5], Step [3300/3750], Loss: 0.1480\n",
      "Epoch [2/5], Step [3400/3750], Loss: 0.1598\n",
      "Epoch [2/5], Step [3500/3750], Loss: 0.5647\n",
      "Epoch [2/5], Step [3600/3750], Loss: 0.0993\n",
      "Epoch [2/5], Step [3700/3750], Loss: 0.2357\n",
      "Epoch [3/5], Step [100/3750], Loss: 0.1621\n",
      "Epoch [3/5], Step [200/3750], Loss: 0.2088\n",
      "Epoch [3/5], Step [300/3750], Loss: 0.4248\n",
      "Epoch [3/5], Step [400/3750], Loss: 0.4337\n",
      "Epoch [3/5], Step [500/3750], Loss: 0.4146\n",
      "Epoch [3/5], Step [600/3750], Loss: 0.2492\n",
      "Epoch [3/5], Step [700/3750], Loss: 0.1690\n",
      "Epoch [3/5], Step [800/3750], Loss: 0.3778\n",
      "Epoch [3/5], Step [900/3750], Loss: 0.7296\n",
      "Epoch [3/5], Step [1000/3750], Loss: 0.1516\n",
      "Epoch [3/5], Step [1100/3750], Loss: 0.3493\n",
      "Epoch [3/5], Step [1200/3750], Loss: 0.8532\n",
      "Epoch [3/5], Step [1300/3750], Loss: 0.5535\n",
      "Epoch [3/5], Step [1400/3750], Loss: 0.2343\n",
      "Epoch [3/5], Step [1500/3750], Loss: 0.5313\n",
      "Epoch [3/5], Step [1600/3750], Loss: 0.3359\n",
      "Epoch [3/5], Step [1700/3750], Loss: 0.4671\n",
      "Epoch [3/5], Step [1800/3750], Loss: 0.4223\n",
      "Epoch [3/5], Step [1900/3750], Loss: 0.2556\n",
      "Epoch [3/5], Step [2000/3750], Loss: 0.7031\n",
      "Epoch [3/5], Step [2100/3750], Loss: 0.2123\n",
      "Epoch [3/5], Step [2200/3750], Loss: 0.5971\n",
      "Epoch [3/5], Step [2300/3750], Loss: 0.1355\n",
      "Epoch [3/5], Step [2400/3750], Loss: 0.1020\n",
      "Epoch [3/5], Step [2500/3750], Loss: 0.1704\n",
      "Epoch [3/5], Step [2600/3750], Loss: 0.2704\n",
      "Epoch [3/5], Step [2700/3750], Loss: 0.3589\n",
      "Epoch [3/5], Step [2800/3750], Loss: 0.2259\n",
      "Epoch [3/5], Step [2900/3750], Loss: 0.1287\n",
      "Epoch [3/5], Step [3000/3750], Loss: 0.3434\n",
      "Epoch [3/5], Step [3100/3750], Loss: 0.3314\n",
      "Epoch [3/5], Step [3200/3750], Loss: 0.4937\n",
      "Epoch [3/5], Step [3300/3750], Loss: 0.3399\n",
      "Epoch [3/5], Step [3400/3750], Loss: 0.4085\n",
      "Epoch [3/5], Step [3500/3750], Loss: 0.3135\n",
      "Epoch [3/5], Step [3600/3750], Loss: 0.1371\n",
      "Epoch [3/5], Step [3700/3750], Loss: 0.2649\n",
      "Epoch [4/5], Step [100/3750], Loss: 0.3095\n",
      "Epoch [4/5], Step [200/3750], Loss: 0.0535\n",
      "Epoch [4/5], Step [300/3750], Loss: 0.3783\n",
      "Epoch [4/5], Step [400/3750], Loss: 0.4417\n",
      "Epoch [4/5], Step [500/3750], Loss: 0.3457\n",
      "Epoch [4/5], Step [600/3750], Loss: 0.2242\n",
      "Epoch [4/5], Step [700/3750], Loss: 0.1897\n",
      "Epoch [4/5], Step [800/3750], Loss: 0.8356\n",
      "Epoch [4/5], Step [900/3750], Loss: 0.3208\n",
      "Epoch [4/5], Step [1000/3750], Loss: 0.2534\n",
      "Epoch [4/5], Step [1100/3750], Loss: 0.0874\n",
      "Epoch [4/5], Step [1200/3750], Loss: 0.1557\n",
      "Epoch [4/5], Step [1300/3750], Loss: 0.2268\n",
      "Epoch [4/5], Step [1400/3750], Loss: 0.5443\n",
      "Epoch [4/5], Step [1500/3750], Loss: 0.1717\n",
      "Epoch [4/5], Step [1600/3750], Loss: 0.1247\n",
      "Epoch [4/5], Step [1700/3750], Loss: 0.1546\n",
      "Epoch [4/5], Step [1800/3750], Loss: 0.5199\n",
      "Epoch [4/5], Step [1900/3750], Loss: 0.4605\n",
      "Epoch [4/5], Step [2000/3750], Loss: 0.4692\n",
      "Epoch [4/5], Step [2100/3750], Loss: 0.5697\n",
      "Epoch [4/5], Step [2200/3750], Loss: 0.5012\n",
      "Epoch [4/5], Step [2300/3750], Loss: 0.2265\n",
      "Epoch [4/5], Step [2400/3750], Loss: 0.0538\n",
      "Epoch [4/5], Step [2500/3750], Loss: 0.2403\n",
      "Epoch [4/5], Step [2600/3750], Loss: 0.1504\n",
      "Epoch [4/5], Step [2700/3750], Loss: 0.1418\n",
      "Epoch [4/5], Step [2800/3750], Loss: 0.3915\n",
      "Epoch [4/5], Step [2900/3750], Loss: 0.2729\n",
      "Epoch [4/5], Step [3000/3750], Loss: 0.1129\n",
      "Epoch [4/5], Step [3100/3750], Loss: 0.3092\n",
      "Epoch [4/5], Step [3200/3750], Loss: 0.1387\n",
      "Epoch [4/5], Step [3300/3750], Loss: 0.3463\n",
      "Epoch [4/5], Step [3400/3750], Loss: 0.3416\n",
      "Epoch [4/5], Step [3500/3750], Loss: 0.3180\n",
      "Epoch [4/5], Step [3600/3750], Loss: 0.0594\n",
      "Epoch [4/5], Step [3700/3750], Loss: 0.4447\n",
      "Epoch [5/5], Step [100/3750], Loss: 0.1494\n",
      "Epoch [5/5], Step [200/3750], Loss: 0.1721\n",
      "Epoch [5/5], Step [300/3750], Loss: 0.1790\n",
      "Epoch [5/5], Step [400/3750], Loss: 0.0469\n",
      "Epoch [5/5], Step [500/3750], Loss: 0.0644\n",
      "Epoch [5/5], Step [600/3750], Loss: 0.2896\n",
      "Epoch [5/5], Step [700/3750], Loss: 0.5290\n",
      "Epoch [5/5], Step [800/3750], Loss: 0.3996\n",
      "Epoch [5/5], Step [900/3750], Loss: 0.7216\n",
      "Epoch [5/5], Step [1000/3750], Loss: 0.0163\n",
      "Epoch [5/5], Step [1100/3750], Loss: 0.2039\n",
      "Epoch [5/5], Step [1200/3750], Loss: 0.2254\n",
      "Epoch [5/5], Step [1300/3750], Loss: 0.1749\n",
      "Epoch [5/5], Step [1400/3750], Loss: 0.4603\n",
      "Epoch [5/5], Step [1500/3750], Loss: 0.1305\n",
      "Epoch [5/5], Step [1600/3750], Loss: 0.0602\n",
      "Epoch [5/5], Step [1700/3750], Loss: 0.2359\n",
      "Epoch [5/5], Step [1800/3750], Loss: 0.2979\n",
      "Epoch [5/5], Step [1900/3750], Loss: 0.3357\n",
      "Epoch [5/5], Step [2000/3750], Loss: 0.3843\n",
      "Epoch [5/5], Step [2100/3750], Loss: 0.3403\n",
      "Epoch [5/5], Step [2200/3750], Loss: 0.0913\n",
      "Epoch [5/5], Step [2300/3750], Loss: 0.1497\n",
      "Epoch [5/5], Step [2400/3750], Loss: 0.4230\n",
      "Epoch [5/5], Step [2500/3750], Loss: 0.5982\n",
      "Epoch [5/5], Step [2600/3750], Loss: 0.5533\n",
      "Epoch [5/5], Step [2700/3750], Loss: 0.0889\n",
      "Epoch [5/5], Step [2800/3750], Loss: 0.2714\n",
      "Epoch [5/5], Step [2900/3750], Loss: 0.4512\n",
      "Epoch [5/5], Step [3000/3750], Loss: 0.1258\n",
      "Epoch [5/5], Step [3100/3750], Loss: 0.5521\n",
      "Epoch [5/5], Step [3200/3750], Loss: 0.1980\n",
      "Epoch [5/5], Step [3300/3750], Loss: 0.1841\n",
      "Epoch [5/5], Step [3400/3750], Loss: 0.1569\n",
      "Epoch [5/5], Step [3500/3750], Loss: 0.4943\n",
      "Epoch [5/5], Step [3600/3750], Loss: 0.0884\n",
      "Epoch [5/5], Step [3700/3750], Loss: 0.1264\n"
     ]
    },
    {
     "data": {
      "text/plain": "<Figure size 640x480 with 1 Axes>",
      "image/png": "[encoded data removed]"
     },
     "metadata": {},
     "output_type": "display_data"
    },
    {
     "name": "stdout",
     "output_type": "stream",
     "text": [
      "Trening zakończony pomyślnie!\n"
     ]
    }
   ],
   "source": [
    "from torch import optim\n",
    "\n",
    "input_size = 28 * 28  \n",
    "hidden_size1 = 1000\n",
    "hidden_size2 = 0\n",
    "output_size = 10  \n",
    "model = FashionMNISTModel(input_size, hidden_size1, hidden_size2, output_size)\n",
    "criterion = nn.CrossEntropyLoss()\n",
    "optimizer = optim.Adam(model.parameters(), lr=0.001)\n",
    "\n",
    "losses = []\n",
    "num_epochs = 5\n",
    "for epoch in range(num_epochs):\n",
    "    for i, (images, labels) in enumerate(data_loader):\n",
    "\n",
    "        outputs = model(images)\n",
    "        loss = criterion(outputs, labels)\n",
    "\n",
    "        optimizer.zero_grad()\n",
    "        loss.backward()\n",
    "        optimizer.step()\n",
    "\n",
    "       \n",
    "        if (i + 1) % 100 == 0:\n",
    "            losses.append(loss.item())\n",
    "            print(f'Epoch [{epoch + 1}/{num_epochs}], Step [{i + 1}/{len(data_loader)}], Loss: {loss.item():.4f}')\n",
    "\n",
    "\n",
    "# plot loss\n",
    "import matplotlib.pyplot as plt\n",
    "plt.plot(losses, label='Training Loss')\n",
    "plt.xlabel('Iteration')\n",
    "plt.ylabel('Loss')\n",
    "plt.title('Training Loss Over Iterations')\n",
    "plt.legend()\n",
    "plt.show()\n",
    "\n",
    "print(\"Trening zakończony pomyślnie!\")"
   ],
   "metadata": {
    "collapsed": false,
    "ExecuteTime": {
     "end_time": "2023-11-13T18:30:20.879283500Z",
     "start_time": "2023-11-13T18:29:27.511229400Z"
    }
   },
   "id": "7928ea560168f23c"
  },
  {
   "cell_type": "code",
   "execution_count": 39,
   "outputs": [],
   "source": [],
   "metadata": {
    "collapsed": false,
    "ExecuteTime": {
     "end_time": "2023-11-13T18:30:20.883283Z",
     "start_time": "2023-11-13T18:30:20.834284200Z"
    }
   },
   "id": "1f26bd9c295f930e"
  },
  {
   "cell_type": "markdown",
   "source": [
    "Test modelu na zbiorze testowym"
   ],
   "metadata": {
    "collapsed": false
   },
   "id": "7bc838f241a53a4c"
  },
  {
   "cell_type": "code",
   "execution_count": 40,
   "outputs": [
    {
     "name": "stdout",
     "output_type": "stream",
     "text": [
      "Dokładność modelu na zbiorze testowym: 90.61%\n"
     ]
    }
   ],
   "source": [
    "model.eval()  # Ustaw model w tryb ewaluacji (wyłącza dropout i batch normalization)\n",
    "\n",
    "correct = 0\n",
    "total = 0\n",
    "\n",
    "with torch.no_grad():   \n",
    "    for images, labels in test_loader:\n",
    "        outputs = model(images)\n",
    "        _, predicted = torch.max(outputs.data, 1)\n",
    "        total += labels.size(0)\n",
    "        correct += (predicted == labels).sum().item()\n",
    "\n",
    "accuracy = correct / total\n",
    "print(f'Dokładność modelu na zbiorze testowym: {accuracy * 100:.2f}%')\n"
   ],
   "metadata": {
    "collapsed": false,
    "ExecuteTime": {
     "end_time": "2023-11-13T18:30:21.634282800Z",
     "start_time": "2023-11-13T18:30:20.848283100Z"
    }
   },
   "id": "9905fe17254d41e4"
  },
  {
   "cell_type": "markdown",
   "source": [],
   "metadata": {
    "collapsed": false
   },
   "id": "d4acd6c58b4948c0"
  }
 ],
 "metadata": {
  "kernelspec": {
   "display_name": "Python 3",
   "language": "python",
   "name": "python3"
  },
  "language_info": {
   "codemirror_mode": {
    "name": "ipython",
    "version": 2
   },
   "file_extension": ".py",
   "mimetype": "text/x-python",
   "name": "python",
   "nbconvert_exporter": "python",
   "pygments_lexer": "ipython2",
   "version": "2.7.6"
  }
 },
 "nbformat": 4,
 "nbformat_minor": 5
}
